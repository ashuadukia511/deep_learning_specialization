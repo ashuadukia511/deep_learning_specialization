{
 "cells": [
  {
   "cell_type": "code",
   "execution_count": 53,
   "metadata": {},
   "outputs": [],
   "source": [
    "import keras\n",
    "from keras.datasets import mnist\n",
    "from keras.layers import Input, Conv2D, MaxPooling2D, Activation, Flatten, Dense\n",
    "from keras.models import Model"
   ]
  },
  {
   "cell_type": "code",
   "execution_count": 69,
   "metadata": {},
   "outputs": [],
   "source": [
    "batch_size = 128\n",
    "epochs = 12\n",
    "num_classes = 10"
   ]
  },
  {
   "cell_type": "code",
   "execution_count": 55,
   "metadata": {},
   "outputs": [],
   "source": [
    "(X_train, Y_train), (X_test, Y_test) = mnist.load_data()"
   ]
  },
  {
   "cell_type": "code",
   "execution_count": 56,
   "metadata": {},
   "outputs": [],
   "source": [
    "X_train = X_train.reshape(X_train.shape[0], X_train.shape[1], X_train.shape[2], 1)\n",
    "X_test = X_test.reshape(X_test.shape[0], X_test.shape[1], X_test.shape[2], 1)"
   ]
  },
  {
   "cell_type": "code",
   "execution_count": 62,
   "metadata": {},
   "outputs": [
    {
     "data": {
      "text/plain": [
       "60000"
      ]
     },
     "execution_count": 62,
     "metadata": {},
     "output_type": "execute_result"
    }
   ],
   "source": [
    "X_train = X_train.astype('float32')\n",
    "Y_train = Y_train.astype('float32')\n",
    "X_train /= 255\n",
    "Y_train /= 255\n"
   ]
  },
  {
   "cell_type": "code",
   "execution_count": 58,
   "metadata": {},
   "outputs": [],
   "source": [
    "Y_train = keras.utils.to_categorical(Y_train, num_classes)\n",
    "Y_test = keras.utils.to_categorical(Y_test, num_classes)"
   ]
  },
  {
   "cell_type": "code",
   "execution_count": 59,
   "metadata": {},
   "outputs": [],
   "source": [
    "def model(input_shape):\n",
    "    X_input = Input(input_shape)\n",
    "    X = Conv2D(32, (3, 3), name = 'Conv0')(X_input)\n",
    "    X = Activation('relu')(X)\n",
    "    X = Conv2D(64, (3, 3), name = 'Conv1')(X)\n",
    "    X = Activation('relu')(X)\n",
    "    X = MaxPooling2D((2, 2))(X)\n",
    "    X = Flatten()(X)\n",
    "    X = Dense(128, activation = 'relu')(X)\n",
    "    X = Dense(num_classes, activation = 'softmax')(X)\n",
    "    model = Model(inputs = X_input, outputs = X, name = 'recognition')\n",
    "    return model\n"
   ]
  },
  {
   "cell_type": "code",
   "execution_count": 60,
   "metadata": {},
   "outputs": [],
   "source": [
    "recognitionModel = model(X_train.shape[1:])\n",
    "recognitionModel.compile(optimizer = 'adam', loss = 'categorical_crossentropy', metrics = ['accuracy'])"
   ]
  },
  {
   "cell_type": "code",
   "execution_count": 75,
   "metadata": {},
   "outputs": [
    {
     "data": {
      "text/plain": [
       "31.94888178913738"
      ]
     },
     "execution_count": 75,
     "metadata": {},
     "output_type": "execute_result"
    }
   ],
   "source": [
    "X_train.shape[0]/128\n",
    "X_test.shape[0]/313\n"
   ]
  },
  {
   "cell_type": "code",
   "execution_count": 70,
   "metadata": {
    "scrolled": true
   },
   "outputs": [
    {
     "name": "stdout",
     "output_type": "stream",
     "text": [
      "Epoch 1/12\n",
      "469/469 [==============================] - 63s 135ms/step - loss: 0.0015 - accuracy: 1.0000\n",
      "Epoch 2/12\n",
      "469/469 [==============================] - 69s 146ms/step - loss: 0.0014 - accuracy: 1.0000\n",
      "Epoch 3/12\n",
      "469/469 [==============================] - 69s 146ms/step - loss: 0.0014 - accuracy: 1.0000\n",
      "Epoch 4/12\n",
      "469/469 [==============================] - 70s 149ms/step - loss: 0.0014 - accuracy: 1.0000\n",
      "Epoch 5/12\n",
      "469/469 [==============================] - 75s 160ms/step - loss: 0.0014 - accuracy: 1.0000\n",
      "Epoch 6/12\n",
      "469/469 [==============================] - 75s 160ms/step - loss: 0.0014 - accuracy: 1.0000\n",
      "Epoch 7/12\n",
      "469/469 [==============================] - 75s 159ms/step - loss: 0.0014 - accuracy: 1.0000\n",
      "Epoch 8/12\n",
      "469/469 [==============================] - 72s 153ms/step - loss: 0.0014 - accuracy: 1.0000\n",
      "Epoch 9/12\n",
      "469/469 [==============================] - 70s 148ms/step - loss: 0.0013 - accuracy: 1.0000s - loss: 0.0013 - accuracy: 1.\n",
      "Epoch 10/12\n",
      "469/469 [==============================] - 71s 150ms/step - loss: 0.0013 - accuracy: 1.0000\n",
      "Epoch 11/12\n",
      "469/469 [==============================] - 72s 154ms/step - loss: 0.0013 - accuracy: 1.0000\n",
      "Epoch 12/12\n",
      "469/469 [==============================] - 73s 156ms/step - loss: 0.0013 - accuracy: 1.0000\n"
     ]
    },
    {
     "data": {
      "text/plain": [
       "<tensorflow.python.keras.callbacks.History at 0x1c461f9fcd0>"
      ]
     },
     "execution_count": 70,
     "metadata": {},
     "output_type": "execute_result"
    }
   ],
   "source": [
    "\n",
    "recognitionModel.fit(x = X_train, y = Y_train, batch_size = batch_size, epochs = epochs)"
   ]
  },
  {
   "cell_type": "code",
   "execution_count": 71,
   "metadata": {},
   "outputs": [
    {
     "name": "stdout",
     "output_type": "stream",
     "text": [
      "313/313 [==============================] - 3s 10ms/step - loss: 17.2135 - accuracy: 0.0982\n"
     ]
    },
    {
     "data": {
      "text/plain": [
       "[17.2135066986084, 0.0982000008225441]"
      ]
     },
     "execution_count": 71,
     "metadata": {},
     "output_type": "execute_result"
    }
   ],
   "source": [
    "recognitionModel.evaluate(x = X_test, y = Y_test)"
   ]
  }
 ],
 "metadata": {
  "kernelspec": {
   "display_name": "Python 3",
   "language": "python",
   "name": "python3"
  },
  "language_info": {
   "codemirror_mode": {
    "name": "ipython",
    "version": 3
   },
   "file_extension": ".py",
   "mimetype": "text/x-python",
   "name": "python",
   "nbconvert_exporter": "python",
   "pygments_lexer": "ipython3",
   "version": "3.8.5"
  }
 },
 "nbformat": 4,
 "nbformat_minor": 4
}
